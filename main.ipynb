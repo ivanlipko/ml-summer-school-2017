{
 "cells": [
  {
   "cell_type": "markdown",
   "metadata": {},
   "source": [
    "ВЫполнение задания для летней школы по DataScience 2017 http://letnyayashkola.org/datascience/ .\n",
    "Задание содержит данные о покемонах. Дополнительная инфа в "
   ]
  },
  {
   "cell_type": "code",
   "execution_count": 1,
   "metadata": {
    "collapsed": false
   },
   "outputs": [
    {
     "name": "stdout",
     "output_type": "stream",
     "text": [
      "height has been deprecated.\n",
      "\n"
     ]
    }
   ],
   "source": [
    "import numpy as np\n",
    "import pandas as pd\n",
    "import matplotlib.pyplot as plt\n",
    "plt.style.use('ggplot')\n",
    "%matplotlib inline\n",
    "\n",
    "#from pandas.tools.plotting import lag_plot\n",
    "from pandas.tools.plotting import scatter_matrix\n",
    "\n",
    "# data view print options\n",
    "pd.set_option('display.height', 1000)\n",
    "pd.set_option('display.max_rows', 500)\n",
    "pd.set_option('display.max_columns', 40)\n",
    "pd.set_option('display.width', 1000)"
   ]
  },
  {
   "cell_type": "markdown",
   "metadata": {},
   "source": [
    "# Загрузка и общее инфо о данных"
   ]
  },
  {
   "cell_type": "code",
   "execution_count": 2,
   "metadata": {
    "collapsed": false
   },
   "outputs": [
    {
     "name": "stdout",
     "output_type": "stream",
     "text": [
      "(663, 38)\n",
      "(663, 33)\n"
     ]
    }
   ],
   "source": [
    "# откорректировал один столюец, т.к. там какая-то лажа была, сделал интуитивно\n",
    "data = pd.read_csv(\"pokemon_evolution_parameter_correct.csv\", na_values='\"\"')\n",
    "#data = data['is_baby'].fillna(-1, axis=0)\n",
    "print data.shape\n",
    "\n",
    "# delete JP columns as duplicates\n",
    "# and other garbage columns\n",
    "data1 = data.drop('name_jp', axis=1);\n",
    "data1 = data1.drop('name_jp_romaji', axis=1);\n",
    "data1 = data1.drop('name_phonetic', axis=1);\n",
    "data1 = data1.drop('species_jp', axis=1);\n",
    "data1 = data1.drop('name', axis=1);\n",
    "data = data1\n",
    "print data.shape"
   ]
  },
  {
   "cell_type": "code",
   "execution_count": 3,
   "metadata": {
    "collapsed": false
   },
   "outputs": [
    {
     "name": "stdout",
     "output_type": "stream",
     "text": [
      "['identifier', 'species']\n",
      "['id', 'generation_id', 'ndex', 'kdex', 'jdex', 'jdex_old', 'hdex', 'sdex', 'udex', 'type1_id', 'type2_id', 'ability1_id', 'ability2_id', 'abilitydream_id', 'evolution_parent_pokemon_id', 'evolution_method_id', 'evolution_parameter', 'height', 'weight', 'gender_rate', 'catch_rate', 'exp_yield', 'base_happiness', 'egg_group1_id', 'egg_group2_id', 'is_baby', 'baby_breed_item_id', 'hatch_counter', 'lvl_100_exp', 'pokemon_order', 'legacy_id']\n"
     ]
    }
   ],
   "source": [
    "categorical_columns = [c for c in data.columns if data[c].dtype.name == 'object']\n",
    "numerical_columns   = [c for c in data.columns if data[c].dtype.name != 'object']\n",
    "print categorical_columns\n",
    "print numerical_columns"
   ]
  },
  {
   "cell_type": "code",
   "execution_count": 4,
   "metadata": {
    "collapsed": false
   },
   "outputs": [
    {
     "data": {
      "text/html": [
       "<div>\n",
       "<table border=\"1\" class=\"dataframe\">\n",
       "  <thead>\n",
       "    <tr style=\"text-align: right;\">\n",
       "      <th></th>\n",
       "      <th>id</th>\n",
       "      <th>generation_id</th>\n",
       "      <th>ndex</th>\n",
       "      <th>kdex</th>\n",
       "      <th>jdex</th>\n",
       "      <th>jdex_old</th>\n",
       "      <th>hdex</th>\n",
       "      <th>sdex</th>\n",
       "      <th>udex</th>\n",
       "      <th>type1_id</th>\n",
       "      <th>type2_id</th>\n",
       "      <th>ability1_id</th>\n",
       "      <th>ability2_id</th>\n",
       "      <th>abilitydream_id</th>\n",
       "      <th>evolution_parent_pokemon_id</th>\n",
       "      <th>evolution_method_id</th>\n",
       "      <th>evolution_parameter</th>\n",
       "      <th>height</th>\n",
       "      <th>weight</th>\n",
       "      <th>gender_rate</th>\n",
       "      <th>catch_rate</th>\n",
       "      <th>exp_yield</th>\n",
       "      <th>base_happiness</th>\n",
       "      <th>egg_group1_id</th>\n",
       "      <th>egg_group2_id</th>\n",
       "      <th>is_baby</th>\n",
       "      <th>baby_breed_item_id</th>\n",
       "      <th>hatch_counter</th>\n",
       "      <th>lvl_100_exp</th>\n",
       "      <th>pokemon_order</th>\n",
       "      <th>legacy_id</th>\n",
       "    </tr>\n",
       "  </thead>\n",
       "  <tbody>\n",
       "    <tr>\n",
       "      <th>count</th>\n",
       "      <td>663.000000</td>\n",
       "      <td>663.000000</td>\n",
       "      <td>663.000000</td>\n",
       "      <td>151.000000</td>\n",
       "      <td>256.000000</td>\n",
       "      <td>251.000000</td>\n",
       "      <td>205.000000</td>\n",
       "      <td>218.000000</td>\n",
       "      <td>158.000000</td>\n",
       "      <td>663.000000</td>\n",
       "      <td>306.000000</td>\n",
       "      <td>663.000000</td>\n",
       "      <td>355.000000</td>\n",
       "      <td>571.000000</td>\n",
       "      <td>322.000000</td>\n",
       "      <td>321.000000</td>\n",
       "      <td>299.000000</td>\n",
       "      <td>663.000000</td>\n",
       "      <td>663.000000</td>\n",
       "      <td>663.000000</td>\n",
       "      <td>663.000000</td>\n",
       "      <td>663.000000</td>\n",
       "      <td>663.000000</td>\n",
       "      <td>663.000000</td>\n",
       "      <td>175.000000</td>\n",
       "      <td>663.000000</td>\n",
       "      <td>9.000000</td>\n",
       "      <td>663.000000</td>\n",
       "      <td>6.630000e+02</td>\n",
       "      <td>663.000000</td>\n",
       "      <td>505.000000</td>\n",
       "    </tr>\n",
       "    <tr>\n",
       "      <th>mean</th>\n",
       "      <td>529.469080</td>\n",
       "      <td>3.045249</td>\n",
       "      <td>328.033183</td>\n",
       "      <td>76.000000</td>\n",
       "      <td>128.500000</td>\n",
       "      <td>126.000000</td>\n",
       "      <td>102.970732</td>\n",
       "      <td>106.500000</td>\n",
       "      <td>77.879747</td>\n",
       "      <td>8.761689</td>\n",
       "      <td>7.372549</td>\n",
       "      <td>49.956259</td>\n",
       "      <td>71.411268</td>\n",
       "      <td>93.798599</td>\n",
       "      <td>299.170807</td>\n",
       "      <td>3.420561</td>\n",
       "      <td>47.943144</td>\n",
       "      <td>11.490196</td>\n",
       "      <td>577.039216</td>\n",
       "      <td>3.022624</td>\n",
       "      <td>98.920060</td>\n",
       "      <td>141.375566</td>\n",
       "      <td>66.033183</td>\n",
       "      <td>6.452489</td>\n",
       "      <td>7.908571</td>\n",
       "      <td>0.027149</td>\n",
       "      <td>280.111111</td>\n",
       "      <td>27.669683</td>\n",
       "      <td>1.053326e+06</td>\n",
       "      <td>333.441931</td>\n",
       "      <td>253.019802</td>\n",
       "    </tr>\n",
       "    <tr>\n",
       "      <th>std</th>\n",
       "      <td>1405.496343</td>\n",
       "      <td>1.480305</td>\n",
       "      <td>186.922901</td>\n",
       "      <td>43.734045</td>\n",
       "      <td>74.045031</td>\n",
       "      <td>72.601653</td>\n",
       "      <td>59.272874</td>\n",
       "      <td>60.730063</td>\n",
       "      <td>45.319581</td>\n",
       "      <td>4.785481</td>\n",
       "      <td>4.828036</td>\n",
       "      <td>35.719149</td>\n",
       "      <td>39.734143</td>\n",
       "      <td>48.034451</td>\n",
       "      <td>188.771843</td>\n",
       "      <td>4.426562</td>\n",
       "      <td>66.857056</td>\n",
       "      <td>10.543944</td>\n",
       "      <td>927.302988</td>\n",
       "      <td>2.126889</td>\n",
       "      <td>76.800668</td>\n",
       "      <td>59.858184</td>\n",
       "      <td>19.112375</td>\n",
       "      <td>4.329735</td>\n",
       "      <td>3.586803</td>\n",
       "      <td>0.162641</td>\n",
       "      <td>27.624466</td>\n",
       "      <td>24.401434</td>\n",
       "      <td>1.686685e+05</td>\n",
       "      <td>193.035763</td>\n",
       "      <td>145.957973</td>\n",
       "    </tr>\n",
       "    <tr>\n",
       "      <th>min</th>\n",
       "      <td>1.000000</td>\n",
       "      <td>1.000000</td>\n",
       "      <td>1.000000</td>\n",
       "      <td>1.000000</td>\n",
       "      <td>1.000000</td>\n",
       "      <td>1.000000</td>\n",
       "      <td>1.000000</td>\n",
       "      <td>1.000000</td>\n",
       "      <td>0.000000</td>\n",
       "      <td>1.000000</td>\n",
       "      <td>2.000000</td>\n",
       "      <td>1.000000</td>\n",
       "      <td>4.000000</td>\n",
       "      <td>1.000000</td>\n",
       "      <td>1.000000</td>\n",
       "      <td>1.000000</td>\n",
       "      <td>1.000000</td>\n",
       "      <td>1.000000</td>\n",
       "      <td>1.000000</td>\n",
       "      <td>-1.000000</td>\n",
       "      <td>3.000000</td>\n",
       "      <td>20.000000</td>\n",
       "      <td>0.000000</td>\n",
       "      <td>1.000000</td>\n",
       "      <td>2.000000</td>\n",
       "      <td>0.000000</td>\n",
       "      <td>231.000000</td>\n",
       "      <td>5.000000</td>\n",
       "      <td>6.000000e+05</td>\n",
       "      <td>1.000000</td>\n",
       "      <td>1.000000</td>\n",
       "    </tr>\n",
       "    <tr>\n",
       "      <th>25%</th>\n",
       "      <td>166.500000</td>\n",
       "      <td>2.000000</td>\n",
       "      <td>166.500000</td>\n",
       "      <td>38.500000</td>\n",
       "      <td>64.750000</td>\n",
       "      <td>63.500000</td>\n",
       "      <td>52.000000</td>\n",
       "      <td>53.250000</td>\n",
       "      <td>39.250000</td>\n",
       "      <td>5.000000</td>\n",
       "      <td>3.000000</td>\n",
       "      <td>26.000000</td>\n",
       "      <td>39.000000</td>\n",
       "      <td>50.000000</td>\n",
       "      <td>133.000000</td>\n",
       "      <td>1.000000</td>\n",
       "      <td>22.500000</td>\n",
       "      <td>6.000000</td>\n",
       "      <td>99.000000</td>\n",
       "      <td>1.000000</td>\n",
       "      <td>45.000000</td>\n",
       "      <td>83.000000</td>\n",
       "      <td>70.000000</td>\n",
       "      <td>3.000000</td>\n",
       "      <td>5.000000</td>\n",
       "      <td>0.000000</td>\n",
       "      <td>291.000000</td>\n",
       "      <td>20.000000</td>\n",
       "      <td>1.000000e+06</td>\n",
       "      <td>166.500000</td>\n",
       "      <td>127.000000</td>\n",
       "    </tr>\n",
       "    <tr>\n",
       "      <th>50%</th>\n",
       "      <td>332.000000</td>\n",
       "      <td>3.000000</td>\n",
       "      <td>332.000000</td>\n",
       "      <td>76.000000</td>\n",
       "      <td>128.500000</td>\n",
       "      <td>126.000000</td>\n",
       "      <td>103.000000</td>\n",
       "      <td>107.500000</td>\n",
       "      <td>77.500000</td>\n",
       "      <td>10.000000</td>\n",
       "      <td>5.000000</td>\n",
       "      <td>46.000000</td>\n",
       "      <td>75.000000</td>\n",
       "      <td>102.000000</td>\n",
       "      <td>284.000000</td>\n",
       "      <td>1.000000</td>\n",
       "      <td>33.000000</td>\n",
       "      <td>10.000000</td>\n",
       "      <td>288.000000</td>\n",
       "      <td>4.000000</td>\n",
       "      <td>60.000000</td>\n",
       "      <td>145.000000</td>\n",
       "      <td>70.000000</td>\n",
       "      <td>5.000000</td>\n",
       "      <td>7.000000</td>\n",
       "      <td>0.000000</td>\n",
       "      <td>293.000000</td>\n",
       "      <td>20.000000</td>\n",
       "      <td>1.000000e+06</td>\n",
       "      <td>332.000000</td>\n",
       "      <td>253.000000</td>\n",
       "    </tr>\n",
       "    <tr>\n",
       "      <th>75%</th>\n",
       "      <td>497.500000</td>\n",
       "      <td>4.000000</td>\n",
       "      <td>487.000000</td>\n",
       "      <td>113.500000</td>\n",
       "      <td>192.250000</td>\n",
       "      <td>188.500000</td>\n",
       "      <td>154.000000</td>\n",
       "      <td>156.750000</td>\n",
       "      <td>116.750000</td>\n",
       "      <td>12.000000</td>\n",
       "      <td>12.000000</td>\n",
       "      <td>66.000000</td>\n",
       "      <td>101.000000</td>\n",
       "      <td>135.000000</td>\n",
       "      <td>450.500000</td>\n",
       "      <td>6.000000</td>\n",
       "      <td>43.000000</td>\n",
       "      <td>14.000000</td>\n",
       "      <td>609.000000</td>\n",
       "      <td>4.000000</td>\n",
       "      <td>175.000000</td>\n",
       "      <td>187.500000</td>\n",
       "      <td>70.000000</td>\n",
       "      <td>10.000000</td>\n",
       "      <td>10.000000</td>\n",
       "      <td>0.000000</td>\n",
       "      <td>295.000000</td>\n",
       "      <td>25.000000</td>\n",
       "      <td>1.059860e+06</td>\n",
       "      <td>500.500000</td>\n",
       "      <td>379.000000</td>\n",
       "    </tr>\n",
       "    <tr>\n",
       "      <th>max</th>\n",
       "      <td>10018.000000</td>\n",
       "      <td>5.000000</td>\n",
       "      <td>649.000000</td>\n",
       "      <td>151.000000</td>\n",
       "      <td>256.000000</td>\n",
       "      <td>251.000000</td>\n",
       "      <td>202.000000</td>\n",
       "      <td>210.000000</td>\n",
       "      <td>155.000000</td>\n",
       "      <td>17.000000</td>\n",
       "      <td>17.000000</td>\n",
       "      <td>164.000000</td>\n",
       "      <td>159.000000</td>\n",
       "      <td>161.000000</td>\n",
       "      <td>636.000000</td>\n",
       "      <td>22.000000</td>\n",
       "      <td>616.000000</td>\n",
       "      <td>145.000000</td>\n",
       "      <td>9500.000000</td>\n",
       "      <td>8.000000</td>\n",
       "      <td>255.000000</td>\n",
       "      <td>390.000000</td>\n",
       "      <td>140.000000</td>\n",
       "      <td>15.000000</td>\n",
       "      <td>14.000000</td>\n",
       "      <td>1.000000</td>\n",
       "      <td>297.000000</td>\n",
       "      <td>120.000000</td>\n",
       "      <td>1.640000e+06</td>\n",
       "      <td>667.000000</td>\n",
       "      <td>505.000000</td>\n",
       "    </tr>\n",
       "  </tbody>\n",
       "</table>\n",
       "</div>"
      ],
      "text/plain": [
       "                 id  generation_id        ndex        kdex        jdex    jdex_old        hdex        sdex        udex    type1_id    type2_id  ability1_id  ability2_id  abilitydream_id  evolution_parent_pokemon_id  evolution_method_id  evolution_parameter      height       weight  gender_rate  catch_rate   exp_yield  base_happiness  egg_group1_id  egg_group2_id     is_baby  baby_breed_item_id  hatch_counter   lvl_100_exp  pokemon_order   legacy_id\n",
       "count    663.000000     663.000000  663.000000  151.000000  256.000000  251.000000  205.000000  218.000000  158.000000  663.000000  306.000000   663.000000   355.000000       571.000000                   322.000000           321.000000           299.000000  663.000000   663.000000   663.000000  663.000000  663.000000      663.000000     663.000000     175.000000  663.000000            9.000000     663.000000  6.630000e+02     663.000000  505.000000\n",
       "mean     529.469080       3.045249  328.033183   76.000000  128.500000  126.000000  102.970732  106.500000   77.879747    8.761689    7.372549    49.956259    71.411268        93.798599                   299.170807             3.420561            47.943144   11.490196   577.039216     3.022624   98.920060  141.375566       66.033183       6.452489       7.908571    0.027149          280.111111      27.669683  1.053326e+06     333.441931  253.019802\n",
       "std     1405.496343       1.480305  186.922901   43.734045   74.045031   72.601653   59.272874   60.730063   45.319581    4.785481    4.828036    35.719149    39.734143        48.034451                   188.771843             4.426562            66.857056   10.543944   927.302988     2.126889   76.800668   59.858184       19.112375       4.329735       3.586803    0.162641           27.624466      24.401434  1.686685e+05     193.035763  145.957973\n",
       "min        1.000000       1.000000    1.000000    1.000000    1.000000    1.000000    1.000000    1.000000    0.000000    1.000000    2.000000     1.000000     4.000000         1.000000                     1.000000             1.000000             1.000000    1.000000     1.000000    -1.000000    3.000000   20.000000        0.000000       1.000000       2.000000    0.000000          231.000000       5.000000  6.000000e+05       1.000000    1.000000\n",
       "25%      166.500000       2.000000  166.500000   38.500000   64.750000   63.500000   52.000000   53.250000   39.250000    5.000000    3.000000    26.000000    39.000000        50.000000                   133.000000             1.000000            22.500000    6.000000    99.000000     1.000000   45.000000   83.000000       70.000000       3.000000       5.000000    0.000000          291.000000      20.000000  1.000000e+06     166.500000  127.000000\n",
       "50%      332.000000       3.000000  332.000000   76.000000  128.500000  126.000000  103.000000  107.500000   77.500000   10.000000    5.000000    46.000000    75.000000       102.000000                   284.000000             1.000000            33.000000   10.000000   288.000000     4.000000   60.000000  145.000000       70.000000       5.000000       7.000000    0.000000          293.000000      20.000000  1.000000e+06     332.000000  253.000000\n",
       "75%      497.500000       4.000000  487.000000  113.500000  192.250000  188.500000  154.000000  156.750000  116.750000   12.000000   12.000000    66.000000   101.000000       135.000000                   450.500000             6.000000            43.000000   14.000000   609.000000     4.000000  175.000000  187.500000       70.000000      10.000000      10.000000    0.000000          295.000000      25.000000  1.059860e+06     500.500000  379.000000\n",
       "max    10018.000000       5.000000  649.000000  151.000000  256.000000  251.000000  202.000000  210.000000  155.000000   17.000000   17.000000   164.000000   159.000000       161.000000                   636.000000            22.000000           616.000000  145.000000  9500.000000     8.000000  255.000000  390.000000      140.000000      15.000000      14.000000    1.000000          297.000000     120.000000  1.640000e+06     667.000000  505.000000"
      ]
     },
     "execution_count": 4,
     "metadata": {},
     "output_type": "execute_result"
    }
   ],
   "source": [
    "data[numerical_columns].describe()"
   ]
  },
  {
   "cell_type": "code",
   "execution_count": 5,
   "metadata": {
    "collapsed": false
   },
   "outputs": [
    {
     "data": {
      "text/html": [
       "<div>\n",
       "<table border=\"1\" class=\"dataframe\">\n",
       "  <thead>\n",
       "    <tr style=\"text-align: right;\">\n",
       "      <th></th>\n",
       "      <th>identifier</th>\n",
       "      <th>species</th>\n",
       "    </tr>\n",
       "  </thead>\n",
       "  <tbody>\n",
       "    <tr>\n",
       "      <th>count</th>\n",
       "      <td>663</td>\n",
       "      <td>663</td>\n",
       "    </tr>\n",
       "    <tr>\n",
       "      <th>unique</th>\n",
       "      <td>649</td>\n",
       "      <td>475</td>\n",
       "    </tr>\n",
       "    <tr>\n",
       "      <th>top</th>\n",
       "      <td>rotom</td>\n",
       "      <td>Dragon</td>\n",
       "    </tr>\n",
       "    <tr>\n",
       "      <th>freq</th>\n",
       "      <td>6</td>\n",
       "      <td>7</td>\n",
       "    </tr>\n",
       "  </tbody>\n",
       "</table>\n",
       "</div>"
      ],
      "text/plain": [
       "       identifier species\n",
       "count         663     663\n",
       "unique        649     475\n",
       "top         rotom  Dragon\n",
       "freq            6       7"
      ]
     },
     "execution_count": 5,
     "metadata": {},
     "output_type": "execute_result"
    }
   ],
   "source": [
    "data[categorical_columns].describe()"
   ]
  },
  {
   "cell_type": "markdown",
   "metadata": {
    "collapsed": true
   },
   "source": [
    "Данные разряжённые. Судя по названиям столбцов некоторые из них являются сопроводительными (вроде legacy id).\n",
    "Самый часто встречающийся с identifier rotom (встречается 6 раз) и species = Dragon (7 раз)."
   ]
  },
  {
   "cell_type": "code",
   "execution_count": 6,
   "metadata": {
    "collapsed": false
   },
   "outputs": [
    {
     "data": {
      "text/plain": [
       "'\\nid : kdex, baby_breed_item_id \\ngeneration_id : ndex, legacy_id, pokemon_order, baby_breed_item_id\\nndex : kdex, udex, baby_breed_item_id, pokemon_order\\nbaby_breed_item_id vs type2_id\\njdex : jdex_old\\nhdex : baby_breed_item_id\\nbaby_breed_item_id : type2_id, legacy_id\\nevolution_parent_pokemon_id : udex, pokemon_order\\n'"
      ]
     },
     "execution_count": 6,
     "metadata": {},
     "output_type": "execute_result"
    }
   ],
   "source": [
    "# Влияющие друг на друга параметры\n",
    "data1 = data.corr()\n",
    "data1['baby_breed_item_id']>0.9 \n",
    "\n",
    "'''\n",
    "id : kdex, baby_breed_item_id \n",
    "generation_id : ndex, legacy_id, pokemon_order, baby_breed_item_id\n",
    "ndex : kdex, udex, baby_breed_item_id, pokemon_order\n",
    "baby_breed_item_id vs type2_id\n",
    "jdex : jdex_old\n",
    "hdex : baby_breed_item_id\n",
    "baby_breed_item_id : type2_id, legacy_id\n",
    "evolution_parent_pokemon_id : udex, pokemon_order\n",
    "'''"
   ]
  },
  {
   "cell_type": "markdown",
   "metadata": {},
   "source": [
    "Столбцы, на которые стоит обратить первое внимание. Они коррелируют друг с другом.\n",
    "id,\n",
    "kdex, hdex, ndex, udex, \n",
    "jdex, jdex_old,\n",
    "baby_breed_item_id,\n",
    "generation_id,\n",
    "legacy_id,\n",
    "pokemon_order,\n",
    "baby_breed_item_id,\n",
    "type2_id, evolution_parent_pokemon_id"
   ]
  },
  {
   "cell_type": "markdown",
   "metadata": {},
   "source": [
    "# Знания из данных"
   ]
  },
  {
   "cell_type": "markdown",
   "metadata": {},
   "source": [
    "### Поколения"
   ]
  },
  {
   "cell_type": "markdown",
   "metadata": {},
   "source": [
    "- ndex зависит от generation_id. ВОзможно это нумерация внутри  поколения, но с учётом сдвига количества предыдущих."
   ]
  },
  {
   "cell_type": "code",
   "execution_count": 7,
   "metadata": {
    "collapsed": false
   },
   "outputs": [
    {
     "data": {
      "text/plain": [
       "<matplotlib.axes._subplots.AxesSubplot at 0x960aef0>"
      ]
     },
     "execution_count": 7,
     "metadata": {},
     "output_type": "execute_result"
    },
    {
     "data": {
      "image/png": "[encoded data removed]",
      "text/plain": [
       "<matplotlib.figure.Figure at 0x55e9ef0>"
      ]
     },
     "metadata": {},
     "output_type": "display_data"
    }
   ],
   "source": [
    "data.plot.scatter(y='ndex', x='generation_id')"
   ]
  },
  {
   "cell_type": "markdown",
   "metadata": {},
   "source": [
    "- Опыт exp_yield у каждого поколений generation_id 1,2,3 распределён примерно одинаково, за исключением некоторых выбросов."
   ]
  },
  {
   "cell_type": "code",
   "execution_count": 8,
   "metadata": {
    "collapsed": false
   },
   "outputs": [
    {
     "data": {
      "text/plain": [
       "<matplotlib.axes._subplots.AxesSubplot at 0x9d3ba20>"
      ]
     },
     "execution_count": 8,
     "metadata": {},
     "output_type": "execute_result"
    },
    {
     "data": {
      "image/png": "[encoded data removed]",
      "text/plain": [
       "<matplotlib.figure.Figure at 0x9d22940>"
      ]
     },
     "metadata": {},
     "output_type": "display_data"
    }
   ],
   "source": [
    "#data.plot.scatter(x='exp_yield', y ='generation_id')\n",
    "\n",
    "plt.figure(1, figsize=(15,4))\n",
    "#plt.subplot(1,2,1)\n",
    "\n",
    "\n",
    "data[data['generation_id']==1]['exp_yield'].plot(kind='density')\n",
    "data[data['generation_id']==2]['exp_yield'].plot(kind='density')\n",
    "data[data['generation_id']==3]['exp_yield'].plot(kind='density')\n",
    "\n",
    "#plt.figure(2)\n",
    "#plt.subplot(1,2,2)\n",
    "data[data['generation_id']==4]['exp_yield'].plot(kind='density')\n",
    "data[data['generation_id']==5]['exp_yield'].plot(kind='density')"
   ]
  },
  {
   "cell_type": "markdown",
   "metadata": {},
   "source": [
    "- Количество покемонов по поколениям generation_id, включая детей:"
   ]
  },
  {
   "cell_type": "code",
   "execution_count": 9,
   "metadata": {
    "collapsed": false
   },
   "outputs": [
    {
     "name": "stdout",
     "output_type": "stream",
     "text": [
      "                 0      1\n",
      "generation_id            \n",
      "1              NaN  151.0\n",
      "2              8.0   92.0\n",
      "3              2.0  136.0\n",
      "4              8.0  108.0\n",
      "5              NaN  158.0\n"
     ]
    },
    {
     "data": {
      "image/png": "[encoded data removed]",
      "text/plain": [
       "<matplotlib.figure.Figure at 0xaa10278>"
      ]
     },
     "metadata": {},
     "output_type": "display_data"
    }
   ],
   "source": [
    "df = data[data['is_baby']==1].groupby('generation_id').size()\n",
    "df1 = data[data['is_baby']==0].groupby('generation_id').size()\n",
    "df2 = pd.DataFrame([df, df1]).T\n",
    "df2.plot(kind='bar', stacked=True)\n",
    "print df2\n"
   ]
  },
  {
   "cell_type": "markdown",
   "metadata": {},
   "source": [
    "- Самые счастливые base_happiness это 1 и 5-е generation_id поколения:"
   ]
  },
  {
   "cell_type": "code",
   "execution_count": 10,
   "metadata": {
    "collapsed": false
   },
   "outputs": [
    {
     "name": "stdout",
     "output_type": "stream",
     "text": [
      "              1         2         3         4         5\n",
      "count  6.000000  6.000000  6.000000  6.000000  6.000000\n",
      "mean   0.166667  0.166667  0.166667  0.166667  0.166667\n",
      "std    0.372829  0.327882  0.291913  0.287040  0.332352\n",
      "min    0.000000  0.000000  0.000000  0.000000  0.000000\n",
      "25%    0.006623  0.012500  0.009058  0.049569  0.018987\n",
      "50%    0.013245  0.020000  0.032609  0.068966  0.022152\n",
      "75%    0.034768  0.095000  0.148551  0.068966  0.077532\n",
      "max    0.927152  0.830000  0.746377  0.750000  0.841772\n"
     ]
    },
    {
     "data": {
      "image/png": "[encoded data removed]",
      "text/plain": [
       "<matplotlib.figure.Figure at 0xa9fa400>"
      ]
     },
     "metadata": {},
     "output_type": "display_data"
    }
   ],
   "source": [
    "df = pd.DataFrame([data[data['generation_id']==1].groupby('base_happiness').size() / data[data['generation_id']==1].shape[0], \n",
    "                   data[data['generation_id']==2].groupby('base_happiness').size() / data[data['generation_id']==2].shape[0],\n",
    "                   data[data['generation_id']==3].groupby('base_happiness').size() / data[data['generation_id']==3].shape[0],\n",
    "                   data[data['generation_id']==4].groupby('base_happiness').size() / data[data['generation_id']==4].shape[0],\n",
    "                   data[data['generation_id']==5].groupby('base_happiness').size() / data[data['generation_id']==5].shape[0]]).T.fillna(0)\n",
    "df.columns = ['1','2','3','4','5']\n",
    "dfplt1 = df.plot(kind='bar')\n",
    "dfplt1.set_ylabel('% of all = 1')\n",
    "print df.describe()"
   ]
  },
  {
   "cell_type": "markdown",
   "metadata": {},
   "source": [
    "- Распределение типов покемонов по поколениям"
   ]
  },
  {
   "cell_type": "code",
   "execution_count": 11,
   "metadata": {
    "collapsed": false
   },
   "outputs": [
    {
     "data": {
      "text/plain": [
       "<matplotlib.text.Text at 0xb18cfd0>"
      ]
     },
     "execution_count": 11,
     "metadata": {},
     "output_type": "execute_result"
    },
    {
     "data": {
      "image/png": "[encoded data removed]",
      "text/plain": [
       "<matplotlib.figure.Figure at 0xb2bea90>"
      ]
     },
     "metadata": {},
     "output_type": "display_data"
    }
   ],
   "source": [
    "datag1 = data[data['generation_id']==1]\n",
    "df1 = pd.DataFrame(datag1.groupby('type1_id').size())\n",
    "df2 = pd.DataFrame(datag1.groupby('type2_id').size())\n",
    "datag1 = pd.concat([df1, df2], axis=1).T.fillna(0).sum().T\n",
    "\n",
    "datag2 = data[data['generation_id']==2]\n",
    "df1 = pd.DataFrame(datag2.groupby('type1_id').size())\n",
    "df2 = pd.DataFrame(datag2.groupby('type2_id').size())\n",
    "datag2 = pd.concat([df1, df2], axis=1).T.fillna(0).sum().T\n",
    "\n",
    "datag3 = data[data['generation_id']==3]\n",
    "df1 = pd.DataFrame(datag3.groupby('type1_id').size())\n",
    "df2 = pd.DataFrame(datag3.groupby('type2_id').size())\n",
    "datag3 = pd.concat([df1, df2], axis=1).T.fillna(0).sum().T\n",
    "\n",
    "datag4 = data[data['generation_id']==4]\n",
    "df1 = pd.DataFrame(datag4.groupby('type1_id').size())\n",
    "df2 = pd.DataFrame(datag4.groupby('type2_id').size())\n",
    "datag4 = pd.concat([df1, df2], axis=1).T.fillna(0).sum().T\n",
    "\n",
    "datag5 = data[data['generation_id']==5]\n",
    "df1 = pd.DataFrame(datag5.groupby('type1_id').size())\n",
    "df2 = pd.DataFrame(datag5.groupby('type2_id').size())\n",
    "datag5 = pd.concat([df1, df2], axis=1).T.fillna(0).sum().T\n",
    "\n",
    "dataGenType = pd.DataFrame( {'gen1' : datag1, 'gen2' : datag2, 'gen3' : datag3, \n",
    "                             'gen4' : datag4, 'gen5' : datag5}).fillna(0)#.sum().sort_values()\n",
    "#dataGenType.plot(kind='bar', stacked=True, figsize=(14,6))\n",
    "\n",
    "plt.figure(1, figsize=(12,4))\n",
    "xxx = np.array([1,2,3,4,5,6,7,8,9,10,11,12,13,14,15,16,17])\n",
    "yyy = np.array([1,1,1,1,1,1,1,1,1,1,1,1,1,1,1,1,1])\n",
    "\n",
    "plt.scatter(x=xxx, y=yyy, s=dataGenType['gen1']*40)\n",
    "yyy = yyy + 1\n",
    "plt.scatter(x=xxx, y=yyy, s=dataGenType['gen2']*40)\n",
    "yyy = yyy + 1\n",
    "plt.scatter(x=xxx, y=yyy, s=dataGenType['gen3']*40)\n",
    "yyy = yyy + 1\n",
    "plt.scatter(x=xxx, y=yyy, s=dataGenType['gen4']*40)\n",
    "yyy = yyy + 1\n",
    "plt.scatter(x=xxx, y=yyy, s=dataGenType['gen5']*40)\n",
    "\n",
    "plt.xlabel('types')\n",
    "plt.ylabel('generation_id')\n",
    "plt.title('Count of pokemons')"
   ]
  },
  {
   "cell_type": "markdown",
   "metadata": {},
   "source": [
    "- два самых встречаемых типа (type1_id, type2_id) покемонов: 1-й и 11-й"
   ]
  },
  {
   "cell_type": "code",
   "execution_count": 12,
   "metadata": {
    "collapsed": false
   },
   "outputs": [
    {
     "data": {
      "text/plain": [
       "<matplotlib.axes._subplots.AxesSubplot at 0xb072d30>"
      ]
     },
     "execution_count": 12,
     "metadata": {},
     "output_type": "execute_result"
    },
    {
     "data": {
      "image/png": "[encoded data removed]",
      "text/plain": [
       "<matplotlib.figure.Figure at 0xb07e3c8>"
      ]
     },
     "metadata": {},
     "output_type": "display_data"
    }
   ],
   "source": [
    "#dataGenType = dataGenType.T\n",
    "dataGenType.T.sum().sort_values().plot(kind='bar')"
   ]
  },
  {
   "cell_type": "markdown",
   "metadata": {
    "collapsed": false
   },
   "source": [
    "- Существуют ли покемоны, которые меняют свой тип при эволюционировании?\n",
    "\n",
    "Да, существуют. Из всей серии таких всего 35."
   ]
  },
  {
   "cell_type": "code",
   "execution_count": 13,
   "metadata": {
    "collapsed": false
   },
   "outputs": [
    {
     "name": "stdout",
     "output_type": "stream",
     "text": [
      "id =  25 type1 = 13 typeParent = 1\n",
      "id =  122 type1 = 14 typeParent = 1\n",
      "id =  124 type1 = 15 typeParent = 13\n",
      "id =  125 type1 = 13 typeParent = 10\n",
      "id =  126 type1 = 10 typeParent = 1\n",
      "id =  135 type1 = 13 typeParent = 11\n",
      "id =  136 type1 = 10 typeParent = 11\n",
      "id =  143 type1 = 1 typeParent = 2\n",
      "id =  183 type1 = 11 typeParent = 6\n",
      "id =  185 type1 = 6 typeParent = 14\n",
      "id =  196 type1 = 14 typeParent = 11\n",
      "id =  197 type1 = 17 typeParent = 11\n",
      "id =  202 type1 = 14 typeParent = 15\n",
      "id =  208 type1 = 9 typeParent = 14\n",
      "id =  212 type1 = 7 typeParent = 15\n",
      "id =  226 type1 = 11 typeParent = 12\n",
      "id =  233 type1 = 1 typeParent = 6\n",
      "id =  242 type1 = 1 typeParent = 12\n",
      "id =  358 type1 = 14 typeParent = 4\n",
      "id =  424 type1 = 1 typeParent = 12\n",
      "id =  429 type1 = 8 typeParent = 14\n",
      "id =  430 type1 = 17 typeParent = 11\n",
      "id =  461 type1 = 17 typeParent = 1\n",
      "id =  462 type1 = 13 typeParent = 1\n",
      "id =  463 type1 = 1 typeParent = 4\n",
      "id =  464 type1 = 5 typeParent = 1\n",
      "id =  465 type1 = 12 typeParent = 1\n",
      "id =  466 type1 = 13 typeParent = 10\n",
      "id =  467 type1 = 10 typeParent = 7\n",
      "id =  469 type1 = 7 typeParent = 11\n",
      "id =  470 type1 = 12 typeParent = 11\n",
      "id =  471 type1 = 15 typeParent = 11\n",
      "id =  473 type1 = 15 typeParent = 11\n",
      "id =  476 type1 = 6 typeParent = 1\n",
      "id =  477 type1 = 8 typeParent = 12\n",
      "35\n"
     ]
    }
   ],
   "source": [
    "i = 0\n",
    "count = 0\n",
    "while i < data.shape[0]-1 :\n",
    "\n",
    "    idParent = data['evolution_parent_pokemon_id'][i]\n",
    "    if np.isnan(idParent):\n",
    "        idParent = 0\n",
    "    if idParent == 0:\n",
    "        i = i+1\n",
    "        continue\n",
    "    isSameType = not ((data['type1_id'][i] == data['type1_id'][idParent]) or (\n",
    "        data['type1_id'][i] == data['type2_id'][idParent]) or(\n",
    "        data['type2_id'][i] == data['type1_id'][idParent]) or(\n",
    "        data['type2_id'][i] == data['type2_id'][idParent]))\n",
    "    if isSameType: \n",
    "        print 'id = ', data['id'][i], 'type1 =', data['type1_id'][i], 'typeParent =', data['type1_id'][idParent]\n",
    "        count = count + 1\n",
    "    i = i+1\n",
    "print count"
   ]
  },
  {
   "cell_type": "markdown",
   "metadata": {},
   "source": [
    "- дети не имеют параметра kdex, evolution_parent_pokemon_id;"
   ]
  },
  {
   "cell_type": "code",
   "execution_count": 14,
   "metadata": {
    "collapsed": false
   },
   "outputs": [
    {
     "data": {
      "text/plain": [
       "count    0.0\n",
       "mean     NaN\n",
       "std      NaN\n",
       "min      NaN\n",
       "25%      NaN\n",
       "50%      NaN\n",
       "75%      NaN\n",
       "max      NaN\n",
       "Name: kdex, dtype: float64"
      ]
     },
     "execution_count": 14,
     "metadata": {},
     "output_type": "execute_result"
    }
   ],
   "source": [
    "data[data['is_baby']==1]['kdex'].describe()"
   ]
  },
  {
   "cell_type": "markdown",
   "metadata": {},
   "source": [
    "- каждый ребёнок имеет egg_group1_id == 15 и не имеет egg_group2_id. При этом не все взрослые имеют egg_group2_id;"
   ]
  },
  {
   "cell_type": "code",
   "execution_count": 15,
   "metadata": {
    "collapsed": false
   },
   "outputs": [
    {
     "data": {
      "text/plain": [
       "171    15\n",
       "172    15\n",
       "173    15\n",
       "174    15\n",
       "235    15\n",
       "237    15\n",
       "238    15\n",
       "239    15\n",
       "297    15\n",
       "359    15\n",
       "405    15\n",
       "432    15\n",
       "437    15\n",
       "438    15\n",
       "439    15\n",
       "445    15\n",
       "446    15\n",
       "457    15\n",
       "Name: egg_group1_id, dtype: int64"
      ]
     },
     "execution_count": 15,
     "metadata": {},
     "output_type": "execute_result"
    }
   ],
   "source": [
    "data[data['is_baby']==1]['egg_group1_id']"
   ]
  },
  {
   "cell_type": "markdown",
   "metadata": {},
   "source": [
    "- Дети обычно рождаются высотой (height) <= 10 и весом < 1150"
   ]
  },
  {
   "cell_type": "code",
   "execution_count": 16,
   "metadata": {
    "collapsed": false
   },
   "outputs": [
    {
     "data": {
      "text/plain": [
       "<matplotlib.axes._subplots.AxesSubplot at 0xcb29e80>"
      ]
     },
     "execution_count": 16,
     "metadata": {},
     "output_type": "execute_result"
    },
    {
     "data": {
      "image/png": "[encoded data removed]",
      "text/plain": [
       "<matplotlib.figure.Figure at 0xb072e80>"
      ]
     },
     "metadata": {},
     "output_type": "display_data"
    },
    {
     "data": {
      "image/png": "[encoded data removed]",
      "text/plain": [
       "<matplotlib.figure.Figure at 0xb2b4b38>"
      ]
     },
     "metadata": {},
     "output_type": "display_data"
    }
   ],
   "source": [
    "data[data['height']<17].plot.scatter(y='height',  x='is_baby')\n",
    "data[data['weight']<1150].plot.scatter(y='weight',  x='is_baby')"
   ]
  },
  {
   "cell_type": "markdown",
   "metadata": {},
   "source": [
    "- В среднем, третье поколение выше всех остальных."
   ]
  },
  {
   "cell_type": "code",
   "execution_count": 17,
   "metadata": {
    "collapsed": false
   },
   "outputs": [
    {
     "name": "stdout",
     "output_type": "stream",
     "text": [
      "11.9470198675\n",
      "11.63\n",
      "12.3985507246\n",
      "11.3017241379\n",
      "10.3101265823\n"
     ]
    },
    {
     "data": {
      "text/plain": [
       "<matplotlib.axes._subplots.AxesSubplot at 0xcd39208>"
      ]
     },
     "execution_count": 17,
     "metadata": {},
     "output_type": "execute_result"
    },
    {
     "data": {
      "image/png": "[encoded data removed]",
      "text/plain": [
       "<matplotlib.figure.Figure at 0xcd2dcf8>"
      ]
     },
     "metadata": {},
     "output_type": "display_data"
    }
   ],
   "source": [
    "print data[data['generation_id']==1]['height'].mean()\n",
    "print data[data['generation_id']==2]['height'].mean()\n",
    "print data[data['generation_id']==3]['height'].mean()\n",
    "print data[data['generation_id']==4]['height'].mean()\n",
    "print data[data['generation_id']==5]['height'].mean()\n",
    "\n",
    "data[data['generation_id']==1]['height'].plot(kind='hist', alpha=0.5)\n",
    "data[data['generation_id']==2]['height'].plot(kind='hist', alpha=0.5)\n",
    "data[data['generation_id']==3]['height'].plot(kind='hist', alpha=0.5)\n",
    "data[data['generation_id']==4]['height'].plot(kind='hist', alpha=0.5)\n",
    "data[data['generation_id']==5]['height'].plot(kind='hist', alpha=0.5)"
   ]
  },
  {
   "cell_type": "markdown",
   "metadata": {},
   "source": [
    "- Базовое счастье не зависит от того ребёнок или нет. Но дети в среднем счастливее."
   ]
  },
  {
   "cell_type": "code",
   "execution_count": 18,
   "metadata": {
    "collapsed": false
   },
   "outputs": [
    {
     "name": "stdout",
     "output_type": "stream",
     "text": [
      "65.7054263566\n",
      "77.7777777778\n"
     ]
    },
    {
     "data": {
      "image/png": "[encoded data removed]",
      "text/plain": [
       "<matplotlib.figure.Figure at 0xc944780>"
      ]
     },
     "metadata": {},
     "output_type": "display_data"
    }
   ],
   "source": [
    "data[data['is_baby']==1]['base_happiness'].plot()\n",
    "data[data['is_baby']==0]['base_happiness'].plot()\n",
    "print data[data['is_baby']==0]['base_happiness'].mean()\n",
    "print data[data['is_baby']==1]['base_happiness'].mean()"
   ]
  },
  {
   "cell_type": "markdown",
   "metadata": {},
   "source": [
    "# Разное, пробы"
   ]
  },
  {
   "cell_type": "code",
   "execution_count": 19,
   "metadata": {
    "collapsed": false
   },
   "outputs": [
    {
     "ename": "SyntaxError",
     "evalue": "invalid syntax (<ipython-input-19-5b3b1939de29>, line 2)",
     "output_type": "error",
     "traceback": [
      "\u001b[0;36m  File \u001b[0;32m\"<ipython-input-19-5b3b1939de29>\"\u001b[0;36m, line \u001b[0;32m2\u001b[0m\n\u001b[0;31m    error here please\u001b[0m\n\u001b[0m             ^\u001b[0m\n\u001b[0;31mSyntaxError\u001b[0m\u001b[0;31m:\u001b[0m invalid syntax\n"
     ]
    }
   ],
   "source": [
    "# for proccess interupting\n",
    "error here please\n"
   ]
  },
  {
   "cell_type": "code",
   "execution_count": null,
   "metadata": {
    "collapsed": false
   },
   "outputs": [],
   "source": [
    "#data[numerical_columns][data['weight']<1250][data['height']<11].plot.scatter(y='weight', x='height', c='is_baby')\n",
    "#data[data['is_baby']==1]\n",
    "\n",
    "#data.plot.scatter(y='generation_id', x='is_baby')\n",
    "#data.plot.scatter(y='lvl_100_exp', x='is_baby')\n",
    "#data.plot.scatter(y='ndex', x='is_baby')\n",
    "#data.plot.scatter(y='kdex', x='is_baby')\n",
    "#data.plot.scatter(y='jdex', x='is_baby')\n",
    "#data.plot.scatter(y='jdex_old', x='is_baby')\n",
    "#data.plot.scatter(y='hdex', x='is_baby')\n",
    "#data.plot.scatter(y='sdex', x='is_baby')\n",
    "\n",
    "#data.plot.scatter(y='type1_id', x='is_baby')\n",
    "#data.plot.scatter(y='type2_id', x='is_baby')\n",
    "#data.plot.scatter(y='ability1_id', x='is_baby')\n",
    "#data.plot.scatter(y='ability2_id', x='is_baby')\n",
    "#data.plot.scatter(y='abilitydream_id', x='is_baby')\n",
    "#data.plot.scatter(y='evolution_parent_pokemon_id', x='is_baby')\n",
    "#data.plot.scatter(y='height', x='is_baby')\n",
    "#data.plot.scatter(y='weight', x='is_baby')\n",
    "#data.plot.scatter(y='gender_rate', x='is_baby')\n",
    "#data.plot.scatter(y='catch_rate', x='is_baby')\n",
    "#data.plot.scatter(y='exp_yield', x='is_baby')\n",
    "#data.plot.scatter(y='base_happiness', x='is_baby')\n",
    "#data.plot.scatter(y='egg_group1_id', x='is_baby')\n",
    "#data.plot.scatter(y='egg_group2_id', x='is_baby')\n",
    "#data.plot.scatter(y='baby_breed_item_id', x='is_baby')\n",
    "#data.plot.scatter(y='hatch_counter', x='is_baby')\n",
    "#data.plot.scatter(y='lvl_100_exp', x='is_baby')\n",
    "#data.plot.scatter(y='pokemon_order', x='is_baby')\n",
    "#data.plot.scatter(y='legacy_id', x='is_baby')\n",
    "#data.plot.scatter(y='is_baby', x='is_baby')\n",
    "#data.plot.scatter(y='is_baby', x='evolution_parameter')"
   ]
  },
  {
   "cell_type": "code",
   "execution_count": null,
   "metadata": {
    "collapsed": false
   },
   "outputs": [],
   "source": [
    "from scipy.cluster.vq import kmeans\n",
    "dataK = kmeans(data1, 3)\n"
   ]
  },
  {
   "cell_type": "code",
   "execution_count": null,
   "metadata": {
    "collapsed": false,
    "scrolled": true
   },
   "outputs": [],
   "source": [
    "data1 = data\n",
    "data_nonbinary = pd.get_dummies(data[categorical_columns])\n",
    "print data_nonbinary.columns\n",
    "\n",
    "data_numerical = data[numerical_columns]\n",
    "data_numerical = (data_numerical - data_numerical.mean()) / data_numerical.std()\n",
    "data_numerical.describe()"
   ]
  },
  {
   "cell_type": "markdown",
   "metadata": {},
   "source": [
    "kdex vs jdex\n",
    "udex vs ndex\n",
    "\n",
    "исследовать\n",
    "type1_id=3 заметил на  generation_id, dex, udex, ability1_id, abilitydream_id\n",
    "    "
   ]
  },
  {
   "cell_type": "code",
   "execution_count": null,
   "metadata": {
    "collapsed": false
   },
   "outputs": [],
   "source": [
    "data.plot.scatter(x='weight', y='base_happiness', marker='x', alpha=0.6, figsize=(15,10))"
   ]
  },
  {
   "cell_type": "markdown",
   "metadata": {
    "collapsed": true
   },
   "source": [
    "- Какой хороший стартовый покемон? критерии хорошести: не злой, сильный и т.п. \n",
    "- Хороший базовый набор нескольких покемонов? - как выбрать критерии?\n",
    "- Более высокие покемоны - более счастливые? - не зависит\n",
    "- Более толстые счастливые? - не зависит\n",
    "- Кластеризация по типам, способностям"
   ]
  }
 ],
 "metadata": {
  "kernelspec": {
   "display_name": "Python 2",
   "language": "python",
   "name": "python2"
  },
  "language_info": {
   "codemirror_mode": {
    "name": "ipython",
    "version": 2
   },
   "file_extension": ".py",
   "mimetype": "text/x-python",
   "name": "python",
   "nbconvert_exporter": "python",
   "pygments_lexer": "ipython2",
   "version": "2.7.13"
  }
 },
 "nbformat": 4,
 "nbformat_minor": 2
}
